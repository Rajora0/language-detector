{
 "cells": [
  {
   "cell_type": "code",
   "execution_count": 112,
   "metadata": {},
   "outputs": [
    {
     "name": "stdout",
     "output_type": "stream",
     "text": [
      "Melhores parâmetros: {'countvectorizer__ngram_range': (2, 3), 'multinomialnb__alpha': 0.1}\n",
      "Acurácia no conjunto de teste: 0.9814285714285714\n"
     ]
    },
    {
     "data": {
      "text/plain": [
       "['model.joblib']"
      ]
     },
     "execution_count": 112,
     "metadata": {},
     "output_type": "execute_result"
    }
   ],
   "source": [
    "import pandas as pd\n",
    "from sklearn.feature_extraction.text import CountVectorizer\n",
    "from sklearn.model_selection import train_test_split, GridSearchCV\n",
    "from sklearn.naive_bayes import MultinomialNB\n",
    "from sklearn.pipeline import make_pipeline\n",
    "from sklearn.metrics import accuracy_score\n",
    "import joblib\n",
    "import numpy as np\n",
    "\n",
    "\n",
    "# 3. Carregar Dados:\n",
    "df = pd.read_csv('/home/rafael/trabalho/detector_idioma/data_gold.csv', sep=';')\n",
    "\n",
    "# 4. Dividir Dados:\n",
    "X_train, X_test, y_train, y_test = train_test_split(df['text'], df['label'], test_size=0.2, random_state=42)\n",
    "\n",
    "# 5. Pré-processamento de Texto e Treinamento do Modelo:\n",
    "pipeline = make_pipeline(CountVectorizer(analyzer ='char'), MultinomialNB())\n",
    "\n",
    "\n",
    "# Definindo o espaço de parâmetros para o Grid Search\n",
    "param_grid = {\n",
    "    'countvectorizer__ngram_range': [(1, 1), (1, 2), (1,3), (2,3)],\n",
    "    'multinomialnb__alpha': [0.1, 0.5, 1.0],\n",
    "}\n",
    "\n",
    "# Criando o objeto GridSearchCV\n",
    "grid_search = GridSearchCV(pipeline, param_grid, cv=5, scoring='accuracy')\n",
    "\n",
    "# Executando a pesquisa em grade\n",
    "grid_search.fit(df['text'], df['label'])\n",
    "\n",
    "# Melhores parâmetros encontrados\n",
    "best_params = grid_search.best_params_\n",
    "print(f'Melhores parâmetros: {best_params}')\n",
    "\n",
    "# 7. Avaliar Modelo:\n",
    "y_pred = grid_search.predict(X_test)\n",
    "accuracy = accuracy_score(y_test, y_pred)\n",
    "print(f'Acurácia no conjunto de teste: {accuracy}')\n",
    "\n",
    "# 8. Salvamento do Modelo:\n",
    "joblib.dump(grid_search, 'model.joblib')"
   ]
  },
  {
   "cell_type": "code",
   "execution_count": 8,
   "metadata": {},
   "outputs": [
    {
     "name": "stdout",
     "output_type": "stream",
     "text": [
      "{'label': 'pt', 'score': 1.0}\n"
     ]
    }
   ],
   "source": [
    "from LanguageDetector.language_detector.language_detector import LanguageDetector\n",
    "\n",
    "\n",
    "detector = LanguageDetector()\n",
    "\n",
    "result = detector.detect_language('bom dia hello world capaz não é possivel')\n",
    "print(result)\n"
   ]
  }
 ],
 "metadata": {
  "kernelspec": {
   "display_name": "Python 3",
   "language": "python",
   "name": "python3"
  },
  "language_info": {
   "codemirror_mode": {
    "name": "ipython",
    "version": 3
   },
   "file_extension": ".py",
   "mimetype": "text/x-python",
   "name": "python",
   "nbconvert_exporter": "python",
   "pygments_lexer": "ipython3",
   "version": "3.10.9"
  }
 },
 "nbformat": 4,
 "nbformat_minor": 2
}
